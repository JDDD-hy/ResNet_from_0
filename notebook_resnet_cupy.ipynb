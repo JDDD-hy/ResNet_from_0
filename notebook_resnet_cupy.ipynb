{
 "cells": [
  {
   "cell_type": "markdown",
   "id": "5e98b8c4-1232-485c-8882-52e461c170bf",
   "metadata": {},
   "source": [
    "/kaggle/  \n",
    "├── input/  \n",
    "│   └── cifar-10-batches-bin/  \n",
    "│       ├── data_batch_1.bin  \n",
    "│       ├── data_batch_2.bin  \n",
    "│       ├── data_batch_3.bin  \n",
    "│       ├── data_batch_4.bin  \n",
    "│       ├── data_batch_5.bin  \n",
    "│       └── test_batch.bin  \n",
    "├── working/  \n",
    "│   └──**this notebook**\n"
   ]
  },
  {
   "cell_type": "code",
   "execution_count": 45,
   "id": "45ad130d-490a-4306-9708-8990e2d091a0",
   "metadata": {
    "execution": {
     "iopub.execute_input": "2025-06-16T10:30:23.421121Z",
     "iopub.status.busy": "2025-06-16T10:30:23.420385Z",
     "iopub.status.idle": "2025-06-16T10:30:23.424452Z",
     "shell.execute_reply": "2025-06-16T10:30:23.423709Z",
     "shell.execute_reply.started": "2025-06-16T10:30:23.421091Z"
    },
    "trusted": true
   },
   "outputs": [],
   "source": [
    "import cupy as cp"
   ]
  },
  {
   "cell_type": "code",
   "execution_count": null,
   "id": "3ad18098-d889-4ce8-beb3-03a538d1a544",
   "metadata": {
    "execution": {
     "iopub.execute_input": "2025-06-16T10:30:23.989291Z",
     "iopub.status.busy": "2025-06-16T10:30:23.989031Z",
     "iopub.status.idle": "2025-06-16T10:30:23.998114Z",
     "shell.execute_reply": "2025-06-16T10:30:23.997439Z",
     "shell.execute_reply.started": "2025-06-16T10:30:23.989272Z"
    },
    "trusted": true
   },
   "outputs": [],
   "source": [
    "class ResidualBlock:\n",
    "    def __init__(self, in_channels, out_channels, stride=1, use_adam=True):\n",
    "        self.stride = stride\n",
    "        self.use_adam = use_adam\n",
    "\n",
    "        self.conv1 = Conv2D(in_channels, out_channels, kernel_size=3, stride=stride, padding=1, use_adam=use_adam)\n",
    "        self.bn1 = BatchNorm2D(out_channels)\n",
    "\n",
    "        self.conv2 = Conv2D(out_channels, out_channels, kernel_size=3, stride=1, padding=1, use_adam=use_adam)\n",
    "        self.bn2 = BatchNorm2D(out_channels)\n",
    "\n",
    "        if in_channels != out_channels or stride != 1:\n",
    "            self.downsample = Conv2D(in_channels, out_channels, kernel_size=1, stride=stride, padding=0, use_adam=use_adam)\n",
    "            self.bn_down = BatchNorm2D(out_channels)\n",
    "        else:\n",
    "            self.downsample = None\n",
    "\n",
    "    def forward(self, x, training=True):\n",
    "        self.x = x # 保存输入用于反向传播\n",
    "\n",
    "        # 主路径第一层\n",
    "        out = self.conv1.forward(x)\n",
    "        out = self.bn1.forward(out, training)\n",
    "        self.out1_relu = cp.maximum(out, 0) # ReLU激活\n",
    "\n",
    "        # 主路径第二层\n",
    "        out = self.conv2.forward(self.out1_relu)\n",
    "        out = self.bn2.forward(out, training)\n",
    "\n",
    "        # 捷径路径：如果维度不匹配则使用1x1卷积调整\n",
    "        if self.downsample is not None:\n",
    "            self.shortcut = self.bn_down.forward(self.downsample.forward(x), training)\n",
    "        else:\n",
    "            self.shortcut = x\n",
    "\n",
    "        # 残差连接：主路径输出 + 捷径路径\n",
    "        self.out = out + self.shortcut\n",
    "        self.out_relu = cp.maximum(self.out, 0)\n",
    "\n",
    "        # 累计 L2 正则项\n",
    "        self.l2_loss = 0.0\n",
    "        for layer in [self.conv1, self.conv2, self.bn1, self.bn2]:\n",
    "            self.l2_loss += getattr(layer, \"l2_loss\", 0.0)\n",
    "        if self.downsample is not None:\n",
    "            self.l2_loss += getattr(self.downsample, \"l2_loss\", 0.0)\n",
    "            self.l2_loss += getattr(self.bn_down, \"l2_loss\", 0.0)\n",
    "\n",
    "        return self.out_relu\n",
    "\n",
    "    def backward(self, grad_output):\n",
    "        grad = grad_output * (self.out > 0)\n",
    "\n",
    "        grad_bn2 = self.bn2.backward(grad)\n",
    "        grad_conv2 = self.conv2.backward(grad_bn2)\n",
    "\n",
    "        grad_relu1 = grad_conv2 * (self.out1_relu > 0)\n",
    "        grad_bn1 = self.bn1.backward(grad_relu1)\n",
    "        grad_conv1 = self.conv1.backward(grad_bn1)\n",
    "\n",
    "        # shortcut 分支使用保存的 self.shortcut 来反向传播\n",
    "        if self.downsample is not None:\n",
    "            grad_shortcut = self.downsample.backward(self.bn_down.backward(grad))\n",
    "        else:\n",
    "            grad_shortcut = grad\n",
    "\n",
    "        return grad_conv1 + grad_shortcut\n"
   ]
  },
  {
   "cell_type": "code",
   "execution_count": null,
   "id": "25a7587e-5f90-49bb-9a52-de27e559c2c0",
   "metadata": {
    "execution": {
     "iopub.execute_input": "2025-06-16T10:30:26.780934Z",
     "iopub.status.busy": "2025-06-16T10:30:26.780667Z",
     "iopub.status.idle": "2025-06-16T10:30:26.790743Z",
     "shell.execute_reply": "2025-06-16T10:30:26.790101Z",
     "shell.execute_reply.started": "2025-06-16T10:30:26.780908Z"
    },
    "trusted": true
   },
   "outputs": [],
   "source": [
    "class BatchNorm2D:\n",
    "    def __init__(self, num_channels, momentum=0.9, eps=1e-5):\n",
    "        self.gamma = cp.ones((1, num_channels, 1, 1))\n",
    "        self.beta = cp.zeros((1, num_channels, 1, 1))\n",
    "        self.momentum = momentum\n",
    "        self.eps = eps\n",
    "        self.running_mean = cp.zeros((1, num_channels, 1, 1))\n",
    "        self.running_var = cp.ones((1, num_channels, 1, 1))\n",
    "\n",
    "        self.opt_gamma = AdamOptimizer(self.gamma.shape)\n",
    "        self.opt_beta = AdamOptimizer(self.beta.shape)\n",
    "\n",
    "    def forward(self, x, training=True):\n",
    "        self.x = x\n",
    "        if training:\n",
    "            mean = cp.mean(x, axis=(0, 2, 3), keepdims=True)\n",
    "            var = cp.var(x, axis=(0, 2, 3), keepdims=True)\n",
    "\n",
    "            self.normalized = (x - mean) / cp.sqrt(var + self.eps)\n",
    "            out = self.gamma * self.normalized + self.beta\n",
    "\n",
    "            self.running_mean = self.momentum * self.running_mean + (1 - self.momentum) * mean\n",
    "            self.running_var = self.momentum * self.running_var + (1 - self.momentum) * var\n",
    "\n",
    "            self.mean, self.var = mean, var\n",
    "        else:\n",
    "            normalized = (x - self.running_mean) / cp.sqrt(self.running_var + self.eps)\n",
    "            out = self.gamma * normalized + self.beta\n",
    "\n",
    "        # 加入正则项\n",
    "        self.l2_loss = cp.sum(self.gamma ** 2) + cp.sum(self.beta ** 2)\n",
    "\n",
    "        return out\n",
    "\n",
    "    def backward(self, dout):\n",
    "        N, C, H, W = dout.shape\n",
    "\n",
    "        x_mu = self.x - self.mean\n",
    "        std_inv = 1. / cp.sqrt(self.var + self.eps)\n",
    "\n",
    "        dgamma = cp.sum(dout * self.normalized, axis=(0, 2, 3), keepdims=True)\n",
    "        dbeta = cp.sum(dout, axis=(0, 2, 3), keepdims=True)\n",
    "\n",
    "        dnorm = dout * self.gamma\n",
    "        dvar = cp.sum(dnorm * x_mu, axis=(0,2,3), keepdims=True) * -0.5 * std_inv**3\n",
    "        dmean = cp.sum(dnorm * -std_inv, axis=(0,2,3), keepdims=True) + dvar * cp.mean(-2. * x_mu, axis=(0,2,3), keepdims=True)\n",
    "        dx = dnorm * std_inv + dvar * 2 * x_mu / (N*H*W) + dmean / (N*H*W)\n",
    "\n",
    "        # 使用优化器更新参数\n",
    "        self.gamma = self.opt_gamma.update(self.gamma, dgamma)\n",
    "        self.beta = self.opt_beta.update(self.beta, dbeta)\n",
    "\n",
    "        return dx\n"
   ]
  },
  {
   "cell_type": "code",
   "execution_count": null,
   "id": "7a219753",
   "metadata": {
    "execution": {
     "iopub.execute_input": "2025-06-16T10:30:28.713537Z",
     "iopub.status.busy": "2025-06-16T10:30:28.712876Z",
     "iopub.status.idle": "2025-06-16T10:30:28.724636Z",
     "shell.execute_reply": "2025-06-16T10:30:28.723853Z",
     "shell.execute_reply.started": "2025-06-16T10:30:28.713516Z"
    },
    "trusted": true
   },
   "outputs": [],
   "source": [
    "class Conv2D:\n",
    "    def __init__(self, input_channels, output_channels, kernel_size, stride=1, padding=0, use_adam=True):\n",
    "        self.input_channels = input_channels\n",
    "        self.output_channels = output_channels\n",
    "        self.kernel_size = kernel_size\n",
    "        self.stride = stride\n",
    "        self.padding = padding\n",
    "        # self.W = cp.random.randn(output_channels, input_channels, kernel_size, kernel_size) * 0.1\n",
    "        \n",
    "        # He初始化\n",
    "        self.W = cp.random.randn(output_channels, input_channels, kernel_size, kernel_size) * cp.sqrt(2.0 / (input_channels * kernel_size * kernel_size))\n",
    "        self.b = cp.zeros((output_channels, 1))\n",
    "        self.use_adam = use_adam\n",
    "        if use_adam:\n",
    "            self.opt_W = AdamOptimizer(self.W.shape)\n",
    "            self.opt_b = AdamOptimizer(self.b.shape)\n",
    "\n",
    "    def forward(self, x):\n",
    "        self.x = x\n",
    "        N, C, H, W = x.shape\n",
    "        K = self.kernel_size\n",
    "        S = self.stride\n",
    "        P = self.padding\n",
    "\n",
    "        x_padded = cp.pad(x, ((0,0), (0,0), (P,P), (P,P)))\n",
    "        x_windows = cp.lib.stride_tricks.sliding_window_view(x_padded, (K, K), axis=(2, 3))\n",
    "        x_windows = x_windows[:, :, ::S, ::S, :, :]\n",
    "        N, C, H_out, W_out, KH, KW = x_windows.shape\n",
    "\n",
    "        x_col = x_windows.transpose(0, 2, 3, 1, 4, 5).reshape(-1, C * K * K)\n",
    "        W_col = self.W.reshape(self.output_channels, -1)\n",
    "\n",
    "        out = x_col @ W_col.T + self.b.T\n",
    "        out = out.reshape(N, H_out, W_out, self.output_channels).transpose(0, 3, 1, 2)\n",
    "        self.x_col = x_col\n",
    "        self.x_windows_shape = (N, C, H_out, W_out, K, K)\n",
    "\n",
    "        # L2正则项 每次 forward 自动更新\n",
    "        self.l2_loss = cp.sum(self.W ** 2) + cp.sum(self.b ** 2)\n",
    "\n",
    "        return out\n",
    "\n",
    "    def backward(self, dout, learning_rate=0.01, reg_lambda=1e-4):\n",
    "        N, C_out, H_out, W_out = dout.shape\n",
    "        K = self.kernel_size\n",
    "        x_col = self.x_col\n",
    "        dout_reshaped = dout.transpose(0, 2, 3, 1).reshape(-1, C_out)\n",
    "        dW = dout_reshaped.T @ x_col\n",
    "        dW = dW.reshape(self.W.shape)\n",
    "        db = cp.sum(dout_reshaped, axis=0, keepdims=True).T\n",
    "        W_col = self.W.reshape(C_out, -1)\n",
    "        dx_col = dout_reshaped @ W_col\n",
    "\n",
    "        N, C, H_out, W_out, KH, KW = self.x_windows_shape\n",
    "        dx_windows = dx_col.reshape(N, H_out, W_out, C, KH, KW).transpose(0, 3, 4, 5, 1, 2)\n",
    "        dx = cp.zeros((N, C, H_out * self.stride + self.padding * 2, W_out * self.stride + self.padding * 2), dtype=dx_windows.dtype)\n",
    "\n",
    "        for i in range(KH):\n",
    "            for j in range(KW):\n",
    "                dx[:, :, i:i + H_out * self.stride:self.stride, j:j + W_out * self.stride:self.stride] += dx_windows[:, :, i, j, :, :]\n",
    "\n",
    "        if self.padding > 0:\n",
    "            dx = dx[:, :, self.padding:-self.padding, self.padding:-self.padding]\n",
    "\n",
    "        if self.use_adam:\n",
    "            self.W = self.opt_W.update(self.W, dW + reg_lambda * self.W)\n",
    "            self.b = self.opt_b.update(self.b, db)\n",
    "        else:\n",
    "            self.W -= learning_rate * (dW + reg_lambda * self.W)\n",
    "            self.b -= learning_rate * db\n",
    "\n",
    "        return dx\n"
   ]
  },
  {
   "cell_type": "code",
   "execution_count": null,
   "id": "6ac720ff-4a08-4902-908b-7ac4ceed53a9",
   "metadata": {
    "execution": {
     "iopub.execute_input": "2025-06-16T10:30:31.646014Z",
     "iopub.status.busy": "2025-06-16T10:30:31.645362Z",
     "iopub.status.idle": "2025-06-16T10:30:31.651457Z",
     "shell.execute_reply": "2025-06-16T10:30:31.650680Z",
     "shell.execute_reply.started": "2025-06-16T10:30:31.645993Z"
    },
    "trusted": true
   },
   "outputs": [],
   "source": [
    "class AdamOptimizer:\n",
    "    def __init__(self, param_shape, lr=0.001, beta1=0.9, beta2=0.999, eps=1e-8):\n",
    "        self.lr = lr\n",
    "        self.beta1 = beta1\n",
    "        self.beta2 = beta2\n",
    "        self.eps = eps\n",
    "        self.m = cp.zeros(param_shape)\n",
    "        self.v = cp.zeros(param_shape)\n",
    "        self.t = 0\n",
    "\n",
    "    def update(self, param, grad):\n",
    "        # 更新时间步\n",
    "        self.t += 1\n",
    "        self.m = self.beta1 * self.m + (1 - self.beta1) * grad # 更新一阶矩估计\n",
    "        self.v = self.beta2 * self.v + (1 - self.beta2) * (grad ** 2) # 更新二阶矩估计\n",
    "        # 计算偏差校正后的估计\n",
    "        m_hat = self.m / (1 - self.beta1 ** self.t)\n",
    "        v_hat = self.v / (1 - self.beta2 ** self.t)\n",
    "        \n",
    "        update = self.lr * m_hat / (cp.sqrt(v_hat) + self.eps)\n",
    "        return param - update"
   ]
  },
  {
   "cell_type": "code",
   "execution_count": 50,
   "id": "e1e2989e",
   "metadata": {
    "execution": {
     "iopub.execute_input": "2025-06-16T10:30:32.028140Z",
     "iopub.status.busy": "2025-06-16T10:30:32.027627Z",
     "iopub.status.idle": "2025-06-16T10:30:32.034888Z",
     "shell.execute_reply": "2025-06-16T10:30:32.034259Z",
     "shell.execute_reply.started": "2025-06-16T10:30:32.028117Z"
    },
    "trusted": true
   },
   "outputs": [],
   "source": [
    "# 最大池化\n",
    "class MaxPool2D:\n",
    "    def __init__(self, kernel_size=2, stride=2): \n",
    "        self.kernel_size = kernel_size\n",
    "        self.stride = stride\n",
    "\n",
    "    def forward(self, x):\n",
    "        self.x = x # 反向传播需要所以先保留一下\n",
    "        N, C, H, W = x.shape\n",
    "        KH, KW = self.kernel_size, self.kernel_size\n",
    "        SH, SW = self.stride, self.stride\n",
    "\n",
    "        H_out = (H - KH) // SH + 1\n",
    "        W_out = (W - KW) // SW + 1\n",
    "\n",
    "        x_reshaped = x.reshape(N, C, H_out, KH, W_out, KW)\n",
    "        x_reshaped = x_reshaped.transpose(0, 1, 2, 4, 3, 5).reshape(N, C, H_out, W_out, -1)\n",
    "\n",
    "        self.argmax = cp.argmax(x_reshaped, axis=-1)\n",
    "        self.x_reshaped = x_reshaped\n",
    "        return cp.max(x_reshaped, axis=-1)\n",
    "\n",
    "    def backward(self, dout):\n",
    "        N, C, H_out, W_out = dout.shape\n",
    "        KH, KW = self.kernel_size, self.kernel_size\n",
    "\n",
    "        dx_flat = cp.zeros_like(self.x_reshaped) # 接收梯度\n",
    "        flat_idx = self.argmax.flatten()\n",
    "        dout_flat = dout.flatten()\n",
    "         # 将 dout 仅分配给最大值位置，其它为 0\n",
    "        dx_flat = dx_flat.reshape(-1, dx_flat.shape[-1])\n",
    "        dx_flat[cp.arange(flat_idx.shape[0]), flat_idx] = dout_flat\n",
    "        dx_flat = dx_flat.reshape(self.x_reshaped.shape)\n",
    "        # 恢复原始形状：[N, C, H_out, KH, W_out, KW] → [N, C, H, W]\n",
    "        dx = dx_flat.reshape(N, C, H_out, KW, W_out, KH).transpose(0, 1, 2, 4, 3, 5)\n",
    "        dx = dx.reshape(N, C, H_out * KH, W_out * KW)\n",
    "        return dx\n",
    "\n"
   ]
  },
  {
   "cell_type": "code",
   "execution_count": 51,
   "id": "a610d215-3e26-43ad-9966-52c2fa8b2c0a",
   "metadata": {
    "execution": {
     "iopub.execute_input": "2025-06-16T10:30:35.755387Z",
     "iopub.status.busy": "2025-06-16T10:30:35.754833Z",
     "iopub.status.idle": "2025-06-16T10:30:35.759735Z",
     "shell.execute_reply": "2025-06-16T10:30:35.758963Z",
     "shell.execute_reply.started": "2025-06-16T10:30:35.755364Z"
    },
    "trusted": true
   },
   "outputs": [],
   "source": [
    "class GlobalAveragePool2D:\n",
    "    def forward(self, x):\n",
    "        self.x = x\n",
    "        return cp.mean(x, axis=(2, 3), keepdims=False)  # shape: (N, C)\n",
    "\n",
    "    def backward(self, dout):\n",
    "        N, C = dout.shape\n",
    "        H, W = self.x.shape[2], self.x.shape[3]\n",
    "        return dout[:, :, None, None] * cp.ones((N, C, H, W)) / (H * W)\n"
   ]
  },
  {
   "cell_type": "code",
   "execution_count": 52,
   "id": "82e95908-b807-45c2-ad99-3f9e8e17ee44",
   "metadata": {
    "execution": {
     "iopub.execute_input": "2025-06-16T10:30:35.991207Z",
     "iopub.status.busy": "2025-06-16T10:30:35.990943Z",
     "iopub.status.idle": "2025-06-16T10:30:35.995059Z",
     "shell.execute_reply": "2025-06-16T10:30:35.994273Z",
     "shell.execute_reply.started": "2025-06-16T10:30:35.991188Z"
    },
    "trusted": true
   },
   "outputs": [],
   "source": [
    "# class FullyConnected:\n",
    "#     def __init__(self, input_dim, output_dim, use_adam=True):\n",
    "#         # self.W = cp.random.randn(input_dim, output_dim) * 0.01\n",
    "#         self.W = cp.random.randn(input_dim, output_dim) * cp.sqrt(2.0 / input_dim)  # He初始化\n",
    "#         self.b = cp.zeros((1, output_dim))\n",
    "#         self.l2_loss = 0.0  # 记录 L2 范数\n",
    "#         self.use_adam = use_adam\n",
    "#         if use_adam:\n",
    "#             self.opt_W = AdamOptimizer(self.W.shape)\n",
    "#             self.opt_b = AdamOptimizer(self.b.shape)\n",
    "\n",
    "#     def forward(self, x):\n",
    "#         self.x = x\n",
    "#         self.l2_loss = cp.sum(self.W ** 2) + cp.sum(self.b ** 2)  # 同时加上偏置项\n",
    "#         return cp.dot(x, self.W) + self.b\n",
    "\n",
    "#     def backward(self, dout, learning_rate=0.01, reg_lambda=1e-4):\n",
    "#         dx = cp.dot(dout, self.W.T)\n",
    "#         dW = cp.dot(self.x.T, dout) + reg_lambda * self.W\n",
    "#         db = cp.sum(dout, axis=0, keepdims=True)\n",
    "#         if self.use_adam:\n",
    "#             self.W = self.opt_W.update(self.W, dW)\n",
    "#             self.b = self.opt_b.update(self.b, db)\n",
    "#         else:\n",
    "#             self.W -= learning_rate * dW\n",
    "#             self.b -= learning_rate * db\n",
    "#         return dx\n"
   ]
  },
  {
   "cell_type": "code",
   "execution_count": 53,
   "id": "e5d3216a-8f8d-4138-8e7a-f45ea48704db",
   "metadata": {
    "execution": {
     "iopub.execute_input": "2025-06-16T10:30:38.664187Z",
     "iopub.status.busy": "2025-06-16T10:30:38.663907Z",
     "iopub.status.idle": "2025-06-16T10:30:38.672092Z",
     "shell.execute_reply": "2025-06-16T10:30:38.671364Z",
     "shell.execute_reply.started": "2025-06-16T10:30:38.664164Z"
    },
    "trusted": true
   },
   "outputs": [],
   "source": [
    "# 带有dropout的FC\n",
    "class FullyConnected:\n",
    "    def __init__(self, input_dim, output_dim, use_adam=True, dropout_rate=0.0):\n",
    "        self.W = cp.random.randn(input_dim, output_dim) * cp.sqrt(2.0 / input_dim)  # He初始化\n",
    "        self.b = cp.zeros((1, output_dim))\n",
    "        self.l2_loss = 0.0\n",
    "        self.use_adam = use_adam\n",
    "        self.dropout_rate = dropout_rate\n",
    "        self.dropout_mask = None\n",
    "\n",
    "        if use_adam:\n",
    "            self.opt_W = AdamOptimizer(self.W.shape)\n",
    "            self.opt_b = AdamOptimizer(self.b.shape)\n",
    "\n",
    "    def forward(self, x, training=True):\n",
    "        self.x = x\n",
    "        out = cp.dot(x, self.W) + self.b\n",
    "        self.l2_loss = cp.sum(self.W ** 2) + cp.sum(self.b ** 2)\n",
    "\n",
    "        if training and self.dropout_rate > 0:\n",
    "            # Dropout mask\n",
    "            self.dropout_mask = (cp.random.rand(*out.shape) > self.dropout_rate).astype(out.dtype)\n",
    "            out = out * self.dropout_mask / (1.0 - self.dropout_rate)  # scale\n",
    "        return out\n",
    "\n",
    "    def backward(self, dout, learning_rate=0.01, reg_lambda=1e-4):\n",
    "        if self.dropout_rate > 0 and self.dropout_mask is not None:\n",
    "            dout = dout * self.dropout_mask / (1.0 - self.dropout_rate)\n",
    "\n",
    "        dx = cp.dot(dout, self.W.T)\n",
    "        dW = cp.dot(self.x.T, dout) + reg_lambda * self.W\n",
    "        db = cp.sum(dout, axis=0, keepdims=True)\n",
    "\n",
    "        if self.use_adam:\n",
    "            self.W = self.opt_W.update(self.W, dW)\n",
    "            self.b = self.opt_b.update(self.b, db)\n",
    "        else:\n",
    "            self.W -= learning_rate * dW\n",
    "            self.b -= learning_rate * db\n",
    "        return dx\n"
   ]
  },
  {
   "cell_type": "code",
   "execution_count": 54,
   "id": "756b64d3",
   "metadata": {
    "execution": {
     "iopub.execute_input": "2025-06-16T10:30:39.131996Z",
     "iopub.status.busy": "2025-06-16T10:30:39.131663Z",
     "iopub.status.idle": "2025-06-16T10:30:39.142053Z",
     "shell.execute_reply": "2025-06-16T10:30:39.141332Z",
     "shell.execute_reply.started": "2025-06-16T10:30:39.131972Z"
    },
    "trusted": true
   },
   "outputs": [],
   "source": [
    "class ReLU:\n",
    "    def __init__(self):\n",
    "        self.mask = None\n",
    "    def forward(self, x):\n",
    "        self.mask = (x > 0)\n",
    "        return x * self.mask\n",
    "    def backward(self, dout):\n",
    "        return dout * self.mask # 只对 x > 0 的位置反传梯度，其它为 0\n",
    "\n",
    "class Flatten:\n",
    "    def __init__(self):\n",
    "        self.input_shape = None\n",
    "    def forward(self, x):\n",
    "        self.input_shape = x.shape\n",
    "        return x.reshape(x.shape[0], -1)\n",
    "    def backward(self, dout):\n",
    "        return dout.reshape(self.input_shape)\n",
    "\n",
    "class SoftmaxWithLoss:\n",
    "    def __init__(self):\n",
    "        self.y_pred = None\n",
    "        self.y_true = None\n",
    "    def forward(self, x, y_true):\n",
    "        '''\n",
    "        x -- 表示每个样本的 logit\n",
    "        y_true -- one-hot 标签\n",
    "        '''\n",
    "        # 防止指数爆炸\n",
    "        x = x - cp.max(x, axis=1, keepdims=True)\n",
    "        exp = cp.exp(x)\n",
    "        \n",
    "        self.y_pred = exp / cp.sum(exp, axis=1, keepdims=True)\n",
    "        self.y_true = y_true\n",
    "        loss = -cp.sum(y_true * cp.log(self.y_pred + 1e-8)) / x.shape[0]\n",
    "        acc = cp.mean(cp.argmax(self.y_pred, axis=1) == cp.argmax(y_true, axis=1))\n",
    "        return loss, acc\n",
    "    def backward(self):\n",
    "        return (self.y_pred - self.y_true) / self.y_true.shape[0]\n"
   ]
  },
  {
   "cell_type": "code",
   "execution_count": 55,
   "id": "ecc0cf39-d177-46c6-a17d-5dc49ade2259",
   "metadata": {
    "execution": {
     "iopub.execute_input": "2025-06-16T10:30:42.012909Z",
     "iopub.status.busy": "2025-06-16T10:30:42.012642Z",
     "iopub.status.idle": "2025-06-16T10:30:42.017956Z",
     "shell.execute_reply": "2025-06-16T10:30:42.017282Z",
     "shell.execute_reply.started": "2025-06-16T10:30:42.012890Z"
    },
    "trusted": true
   },
   "outputs": [],
   "source": [
    "class EarlyStopping:\n",
    "    def __init__(self, patience=5, delta=0.0):\n",
    "        self.patience = patience\n",
    "        self.delta = delta\n",
    "        self.best_loss = None\n",
    "        self.counter = 0\n",
    "        self.early_stop = False\n",
    "\n",
    "    def __call__(self, val_loss):\n",
    "        if self.best_loss is None or val_loss < self.best_loss - self.delta:\n",
    "            self.best_loss = val_loss\n",
    "            self.counter = 0\n",
    "        else:\n",
    "            self.counter += 1\n",
    "            if self.counter >= self.patience:\n",
    "                self.early_stop = True\n"
   ]
  },
  {
   "cell_type": "markdown",
   "id": "c218928e-12c9-405a-91d2-3680b5994925",
   "metadata": {},
   "source": [
    "### CNN\n",
    "Conv2D → ReLU → MaxPool  \n",
    "Conv2D → ReLU → MaxPool  \n",
    "Flatten → FC(512) → ReLU → (Dropout not yet) → FC(10) → Softmax  \n"
   ]
  },
  {
   "cell_type": "code",
   "execution_count": null,
   "id": "25512b8a-4a5f-421e-b1fd-6c34b84aa9c2",
   "metadata": {
    "execution": {
     "iopub.execute_input": "2025-06-16T10:29:55.763845Z",
     "iopub.status.busy": "2025-06-16T10:29:55.763299Z",
     "iopub.status.idle": "2025-06-16T10:29:55.773417Z",
     "shell.execute_reply": "2025-06-16T10:29:55.772597Z",
     "shell.execute_reply.started": "2025-06-16T10:29:55.763823Z"
    },
    "trusted": true
   },
   "outputs": [],
   "source": [
    "# class SimpleCNN:\n",
    "#     def __init__(self):\n",
    "#         self.conv1 = Conv2D(3, 32, 3, padding=1)     # (3, 32, 32) → (32, 32, 32)\n",
    "#         self.relu1 = ReLU()\n",
    "#         self.pool1 = MaxPool2D(2, 2)                 # → (32, 16, 16)\n",
    "\n",
    "#         self.conv2 = Conv2D(32, 64, 3, padding=1)    # → (64, 16, 16)\n",
    "#         self.relu2 = ReLU()\n",
    "#         self.pool2 = MaxPool2D(2, 2)                 # → (64, 8, 8)\n",
    "\n",
    "#         self.flatten = Flatten()                    # → 64×8×8 = 4096\n",
    "#         self.fc1 = FullyConnected(64 * 8 * 8, 512)\n",
    "#         self.relu3 = ReLU()\n",
    "#         self.fc2 = FullyConnected(512, 10)\n",
    "#         self.softmax_loss = SoftmaxWithLoss()\n",
    "\n",
    "#     def forward(self, x, y):\n",
    "#         out = self.conv1.forward(x)\n",
    "#         out = self.relu1.forward(out)\n",
    "#         out = self.pool1.forward(out)\n",
    "\n",
    "#         out = self.conv2.forward(out)\n",
    "#         out = self.relu2.forward(out)\n",
    "#         out = self.pool2.forward(out)\n",
    "\n",
    "#         out = self.flatten.forward(out)\n",
    "#         out = self.fc1.forward(out)\n",
    "#         out = self.relu3.forward(out)\n",
    "#         # out = self.dropout.forward(out, train=True)\n",
    "#         out = self.fc2.forward(out)\n",
    "#         loss, acc = self.softmax_loss.forward(out, y)\n",
    "#         return loss, acc\n",
    "\n",
    "#     def backward(self, learning_rate=0.01):\n",
    "#         dout = self.softmax_loss.backward()\n",
    "#         dout = self.fc2.backward(dout, learning_rate)\n",
    "#         # dout = self.dropout.backward(dout)\n",
    "#         dout = self.relu3.backward(dout)\n",
    "#         dout = self.fc1.backward(dout, learning_rate)\n",
    "#         dout = self.flatten.backward(dout)\n",
    "#         dout = self.pool2.backward(dout)\n",
    "#         dout = self.relu2.backward(dout)\n",
    "#         dout = self.conv2.backward(dout, learning_rate)\n",
    "#         dout = self.pool1.backward(dout)\n",
    "#         dout = self.relu1.backward(dout)\n",
    "#         dout = self.conv1.backward(dout, learning_rate)\n",
    "\n",
    "#     def predict(self, x):\n",
    "#         out = self.conv1.forward(x)\n",
    "#         out = self.relu1.forward(out)\n",
    "#         out = self.pool1.forward(out)\n",
    "\n",
    "#         out = self.conv2.forward(out)\n",
    "#         out = self.relu2.forward(out)\n",
    "#         out = self.pool2.forward(out)\n",
    "\n",
    "#         out = self.flatten.forward(out)\n",
    "#         out = self.fc1.forward(out)\n",
    "#         out = self.relu3.forward(out)\n",
    "#         # out = self.dropout.forward(out, train=False)\n",
    "#         out = self.fc2.forward(out)\n",
    "#         return cp.argmax(out, axis=1)\n"
   ]
  },
  {
   "cell_type": "code",
   "execution_count": 35,
   "id": "a26c0376",
   "metadata": {
    "execution": {
     "iopub.execute_input": "2025-06-16T10:29:55.774961Z",
     "iopub.status.busy": "2025-06-16T10:29:55.774687Z",
     "iopub.status.idle": "2025-06-16T10:29:55.792070Z",
     "shell.execute_reply": "2025-06-16T10:29:55.791429Z",
     "shell.execute_reply.started": "2025-06-16T10:29:55.774946Z"
    },
    "trusted": true
   },
   "outputs": [],
   "source": [
    "# from tqdm.notebook import tqdm\n",
    "\n",
    "# def evaluate_on_val(model, X_val, Y_val, batch=64):\n",
    "#     total_loss, correct = 0.0, 0\n",
    "#     for i in range(0, X_val.shape[0], batch):\n",
    "#         xb = X_val[i:i+batch]\n",
    "#         yb = Y_val[i:i+batch]\n",
    "#         loss, acc = model.forward(xb, yb)\n",
    "#         pred = model.predict(xb)\n",
    "#         total_loss += loss * xb.shape[0]\n",
    "#         correct += cp.sum(pred == cp.argmax(yb, axis=1))\n",
    "#     return total_loss / X_val.shape[0], correct / X_val.shape[0]\n",
    "\n",
    "# def train_CNN(model, X, Y, X_val=None, Y_val=None, epochs=10, batch=64, lr=0.01, reg_lambda=1e-4):\n",
    "#     stopper = EarlyStopping(patience=5)\n",
    "#     best_val_loss = float('inf')\n",
    "\n",
    "#     for epoch in range(epochs):\n",
    "#         idx = cp.random.permutation(X.shape[0])\n",
    "#         X, Y = X[idx], Y[idx]\n",
    "#         total_loss, correct = 0.0, 0\n",
    "\n",
    "#         with tqdm(total=X.shape[0], desc=f\"Epoch {epoch+1}/{epochs}\", unit=\"sample\") as pbar:\n",
    "#             for i in range(0, X.shape[0], batch):\n",
    "#                 xb = X[i:i+batch]\n",
    "#                 yb = Y[i:i+batch]\n",
    "\n",
    "#                 # Forward + reg loss\n",
    "#                 loss, acc = model.forward(xb, yb)\n",
    "#                 reg_loss = sum(layer.l2_loss for layer in model.__dict__.values() if hasattr(layer, 'l2_loss'))\n",
    "#                 loss += reg_lambda * reg_loss\n",
    "\n",
    "#                 model.backward(learning_rate=lr)\n",
    "#                 pred = model.predict(xb)\n",
    "#                 correct += cp.sum(pred == cp.argmax(yb, axis=1))\n",
    "#                 total_loss += loss * xb.shape[0]\n",
    "\n",
    "#                 pbar.update(xb.shape[0])\n",
    "#                 pbar.set_postfix(loss=float(loss), acc=float(acc))\n",
    "\n",
    "#         avg_loss = total_loss / X.shape[0]\n",
    "#         train_acc = correct / X.shape[0]\n",
    "#         print(f\"Epoch {epoch+1} Summary: Loss {avg_loss:.4f}, Accuracy {train_acc:.4f}\")\n",
    "\n",
    "#         if X_val is not None and Y_val is not None:\n",
    "#             val_loss, val_acc = evaluate_on_val(model, X_val, Y_val)\n",
    "#             stopper(val_loss)\n",
    "#             print(f\"Val Loss: {val_loss:.4f}, Val Accuracy: {val_acc:.4f}, Stop Counter: {stopper.counter}\")\n",
    "\n",
    "#             # 自动学习率衰减逻辑\n",
    "#             if val_loss >= best_val_loss:\n",
    "#                 lr *= 0.5\n",
    "#                 print(f\"No improvement in val_loss. Reducing learning rate to {lr:.6f}\")\n",
    "#             else:\n",
    "#                 best_val_loss = val_loss\n",
    "\n",
    "#             if stopper.early_stop:\n",
    "#                 print(\"Early stopping triggered.\")\n",
    "#                 break\n"
   ]
  },
  {
   "cell_type": "markdown",
   "id": "8a162e85-ed01-4972-8af0-5860f4240307",
   "metadata": {},
   "source": [
    "### RESNET\n",
    "Input: (3, 32, 32)  \n",
    "\n",
    "Conv2D(3 → 64, 3x3) → BN → ReLU  \n",
    "layer1 (2× ResidualBlock(64 → 64))  \n",
    "layer2 (2× ResidualBlock(64 → 128))  \n",
    "layer3 (2× ResidualBlock(128 → 256))  \n",
    "layer4 (2× ResidualBlock(256 → 512))  \n",
    "GlobalAveragePool2D → FullyConnected(512 → 10)  "
   ]
  },
  {
   "cell_type": "code",
   "execution_count": 56,
   "id": "b649ad63-47c6-484d-b899-709a0eced85f",
   "metadata": {
    "execution": {
     "iopub.execute_input": "2025-06-16T10:30:46.415943Z",
     "iopub.status.busy": "2025-06-16T10:30:46.415656Z",
     "iopub.status.idle": "2025-06-16T10:30:46.426120Z",
     "shell.execute_reply": "2025-06-16T10:30:46.425426Z",
     "shell.execute_reply.started": "2025-06-16T10:30:46.415925Z"
    },
    "trusted": true
   },
   "outputs": [],
   "source": [
    "class ResNet:\n",
    "    def __init__(self, block_config=[2, 2, 2, 2], num_classes=10, use_adam=True):\n",
    "        self.use_adam = use_adam\n",
    "        self.in_channels = 64  # 初始通道数\n",
    "\n",
    "        # 初始卷积层\n",
    "        self.conv1 = Conv2D(3, 64, kernel_size=3, stride=1, padding=1, use_adam=use_adam)\n",
    "        self.bn1 = BatchNorm2D(64)\n",
    "\n",
    "        # 残差层：每个 block_config[i] 对应堆叠的 block 个数\n",
    "        self.layer1 = self._make_layer(64,  block_config[0], stride=1)\n",
    "        self.layer2 = self._make_layer(128, block_config[1], stride=2)\n",
    "        self.layer3 = self._make_layer(256, block_config[2], stride=2)\n",
    "        self.layer4 = self._make_layer(512, block_config[3], stride=2)\n",
    "\n",
    "        # 全局平均池化 + 全连接\n",
    "        self.gap = GlobalAveragePool2D()\n",
    "        # self.fc = FullyConnected(512, num_classes, use_adam=use_adam)\n",
    "        self.fc = FullyConnected(512, num_classes, use_adam=use_adam, dropout_rate=0.3)\n",
    "\n",
    "    def _make_layer(self, out_channels, blocks, stride):\n",
    "        layers = []\n",
    "        # 第一个 block downsample（stride > 1）\n",
    "        layers.append(ResidualBlock(self.in_channels, out_channels, stride=stride, use_adam=self.use_adam))\n",
    "        self.in_channels = out_channels\n",
    "        # 后续 block 均 stride=1\n",
    "        for _ in range(1, blocks):\n",
    "            layers.append(ResidualBlock(out_channels, out_channels, stride=1, use_adam=self.use_adam))\n",
    "        return layers\n",
    "\n",
    "    def forward(self, x, training=True):\n",
    "        out = self.conv1.forward(x)\n",
    "        out = self.bn1.forward(out, training)\n",
    "        out = cp.maximum(out, 0)\n",
    "\n",
    "        for block in self.layer1:\n",
    "            out = block.forward(out, training)\n",
    "        for block in self.layer2:\n",
    "            out = block.forward(out, training)\n",
    "        for block in self.layer3:\n",
    "            out = block.forward(out, training)\n",
    "        for block in self.layer4:\n",
    "            out = block.forward(out, training)\n",
    "\n",
    "        out = self.gap.forward(out)\n",
    "        # out = self.fc.forward(out)\n",
    "        out = self.fc.forward(out, training=training)\n",
    "        return out\n",
    "\n",
    "    def backward(self, dout):\n",
    "        dout = self.fc.backward(dout)\n",
    "        dout = self.gap.backward(dout)\n",
    "\n",
    "        for block in reversed(self.layer4):\n",
    "            dout = block.backward(dout)\n",
    "        for block in reversed(self.layer3):\n",
    "            dout = block.backward(dout)\n",
    "        for block in reversed(self.layer2):\n",
    "            dout = block.backward(dout)\n",
    "        for block in reversed(self.layer1):\n",
    "            dout = block.backward(dout)\n",
    "\n",
    "        dout = dout * (self.bn1.x > 0)\n",
    "        dout = self.bn1.backward(dout)\n",
    "        dout = self.conv1.backward(dout)\n",
    "        return dout\n",
    "\n",
    "    def predict(self, x):\n",
    "        out = self.forward(x, training=False)\n",
    "        return cp.argmax(out, axis=1)\n"
   ]
  },
  {
   "cell_type": "code",
   "execution_count": 57,
   "id": "23c00c2e",
   "metadata": {
    "execution": {
     "iopub.execute_input": "2025-06-16T10:30:48.858512Z",
     "iopub.status.busy": "2025-06-16T10:30:48.857946Z",
     "iopub.status.idle": "2025-06-16T10:30:48.865628Z",
     "shell.execute_reply": "2025-06-16T10:30:48.864874Z",
     "shell.execute_reply.started": "2025-06-16T10:30:48.858490Z"
    },
    "trusted": true
   },
   "outputs": [],
   "source": [
    "import os\n",
    "import numpy as np\n",
    "import cupy as cp\n",
    "\n",
    "\n",
    "# 检查kaggle的gpu是否可用\n",
    "def check_gpu():\n",
    "    try:\n",
    "        cp.cuda.runtime.getDevice()\n",
    "        print(\"GPU is available and ready.\")\n",
    "    except cp.cuda.runtime.CUDARuntimeError:\n",
    "        raise RuntimeError(\"No GPU detected.\")\n",
    "\n",
    "# 单个batch\n",
    "def load_cifar10_binary_batch(filename):\n",
    "    with open(filename, 'rb') as f:\n",
    "        data = np.frombuffer(f.read(), dtype=np.uint8)\n",
    "        data = data.reshape(-1, 3073)\n",
    "        labels = data[:, 0]\n",
    "        images = data[:, 1:]\n",
    "        # 归一\n",
    "        images = images.reshape(-1, 3, 32, 32).astype(np.float32) / 255.0\n",
    "        return images, labels\n",
    "\n",
    "# 整个数据集\n",
    "def load_cifar10_binary(root):\n",
    "    X_train, Y_train = [], []\n",
    "    for i in range(1, 6):\n",
    "        path = os.path.join(root, f'data_batch_{i}.bin')\n",
    "        X, Y = load_cifar10_binary_batch(path)\n",
    "        X_train.append(X)\n",
    "        Y_train.append(Y)\n",
    "    X_train = np.concatenate(X_train)\n",
    "    Y_train = np.concatenate(Y_train)\n",
    "    X_test, Y_test = load_cifar10_binary_batch(os.path.join(root, 'test_batch.bin'))\n",
    "    # 转换为张量\n",
    "    return cp.asarray(X_train), cp.asarray(Y_train), cp.asarray(X_test), cp.asarray(Y_test)\n",
    "\n",
    "# One-hot 编码\n",
    "def one_hot_encode(Y, num_classes=10):\n",
    "    one_hot = cp.zeros((Y.shape[0], num_classes), dtype=cp.float32)\n",
    "    one_hot[cp.arange(Y.shape[0]), Y] = 1\n",
    "    return one_hot\n"
   ]
  },
  {
   "cell_type": "code",
   "execution_count": 38,
   "id": "6df51369-700e-4b2c-945e-eb98fa4007dd",
   "metadata": {
    "execution": {
     "iopub.execute_input": "2025-06-16T10:29:55.837637Z",
     "iopub.status.busy": "2025-06-16T10:29:55.837388Z",
     "iopub.status.idle": "2025-06-16T10:29:55.852658Z",
     "shell.execute_reply": "2025-06-16T10:29:55.851950Z",
     "shell.execute_reply.started": "2025-06-16T10:29:55.837618Z"
    },
    "trusted": true
   },
   "outputs": [],
   "source": [
    "# check_gpu()\n",
    "# X_train, Y_train, X_test, Y_test = load_cifar10_binary('/kaggle/input/cifar-10-bi/cifar-10-binary/cifar-10-batches-bin')\n",
    "# Y_train = one_hot_encode(Y_train)\n",
    "# Y_test = one_hot_encode(Y_test)\n",
    "# model = SimpleCNN()\n",
    "# train_CNN(model, X_train, Y_train, X_val=X_test, Y_val=Y_test, epochs=20, batch=64,lr=0.01, reg_lambda=1e-4)"
   ]
  },
  {
   "cell_type": "code",
   "execution_count": null,
   "id": "663d8bff-2239-4e30-8d06-69f718ee73c7",
   "metadata": {
    "execution": {
     "iopub.execute_input": "2025-06-16T10:30:51.280061Z",
     "iopub.status.busy": "2025-06-16T10:30:51.279794Z",
     "iopub.status.idle": "2025-06-16T10:30:51.285523Z",
     "shell.execute_reply": "2025-06-16T10:30:51.284727Z",
     "shell.execute_reply.started": "2025-06-16T10:30:51.280041Z"
    },
    "trusted": true
   },
   "outputs": [],
   "source": [
    "from tqdm.notebook import tqdm\n",
    "\n",
    "def evaluate_resnet(model, loss_fn, X_val, Y_val, batch=64):\n",
    "    total_loss, correct = 0.0, 0\n",
    "    for i in range(0, X_val.shape[0], batch):\n",
    "        xb = X_val[i:i+batch]\n",
    "        yb = Y_val[i:i+batch]\n",
    "\n",
    "        out = model.forward(xb, training=False)\n",
    "        loss, acc = loss_fn.forward(out, yb)  \n",
    "        pred = cp.argmax(out, axis=1)\n",
    "        correct += cp.sum(pred == cp.argmax(yb, axis=1))\n",
    "        total_loss += loss * xb.shape[0]\n",
    "\n",
    "    return float(total_loss / X_val.shape[0]), float(correct / X_val.shape[0])"
   ]
  },
  {
   "cell_type": "code",
   "execution_count": null,
   "id": "c86d397b-2006-47c7-8e55-15e590529ffc",
   "metadata": {
    "execution": {
     "iopub.execute_input": "2025-06-16T10:30:52.769753Z",
     "iopub.status.busy": "2025-06-16T10:30:52.769486Z",
     "iopub.status.idle": "2025-06-16T10:30:52.775764Z",
     "shell.execute_reply": "2025-06-16T10:30:52.775020Z",
     "shell.execute_reply.started": "2025-06-16T10:30:52.769735Z"
    },
    "trusted": true
   },
   "outputs": [],
   "source": [
    "# 图像增强\n",
    "def augment_image(x, padding=4, cutout_siffze=8):\n",
    "    C, H, W = x.shape\n",
    "\n",
    "    # Padding\n",
    "    x_padded = cp.pad(x, ((0, 0), (padding, padding), (padding, padding)), mode='constant')\n",
    "\n",
    "    # Random crop\n",
    "    top = cp.random.randint(0, 2 * padding)\n",
    "    left = cp.random.randint(0, 2 * padding)\n",
    "    x_cropped = x_padded[:, top:top+H, left:left+W]\n",
    "\n",
    "    # Random horizontal flip\n",
    "    if cp.random.rand() < 0.5:\n",
    "        x_cropped = x_cropped[:, :, ::-1]\n",
    "\n",
    "    # Cutout \n",
    "    if cp.random.rand() < 0.5:  # 50% 概率应用 cutout\n",
    "        cy, cx = cp.random.randint(H), cp.random.randint(W)\n",
    "        y1, y2 = max(0, cy - cutout_size // 2), min(H, cy + cutout_size // 2)\n",
    "        x1, x2 = max(0, cx - cutout_size // 2), min(W, cx + cutout_size // 2)\n",
    "        x_cropped[:, y1:y2, x1:x2] = 0\n",
    "\n",
    "    return x_cropped\n"
   ]
  },
  {
   "cell_type": "code",
   "execution_count": 60,
   "id": "1f4e2db1-19f3-4bf7-9128-175fc6422dea",
   "metadata": {
    "execution": {
     "iopub.execute_input": "2025-06-16T10:30:54.869773Z",
     "iopub.status.busy": "2025-06-16T10:30:54.869141Z",
     "iopub.status.idle": "2025-06-16T10:30:54.879979Z",
     "shell.execute_reply": "2025-06-16T10:30:54.879291Z",
     "shell.execute_reply.started": "2025-06-16T10:30:54.869747Z"
    },
    "trusted": true
   },
   "outputs": [],
   "source": [
    "import seaborn as sns\n",
    "import matplotlib.pyplot as plt\n",
    "from sklearn.metrics import confusion_matrix\n",
    "\n",
    "\n",
    "\n",
    "train_losses = []\n",
    "train_accuracies = []\n",
    "val_losses = []\n",
    "val_accuracies = []\n",
    "best_val_acc = 0.0\n",
    "\n",
    "def save_model(model, path=\"/kaggle/working/best_model.npz\"):\n",
    "    state_dict = {}\n",
    "    for name, layer in model.__dict__.items():\n",
    "        if hasattr(layer, 'W'):\n",
    "            state_dict[f'{name}.W'] = cp.asnumpy(layer.W)\n",
    "        if hasattr(layer, 'b'):\n",
    "            state_dict[f'{name}.b'] = cp.asnumpy(layer.b)\n",
    "    np.savez(path, **state_dict)\n",
    "    print(f\"[+] Model saved to: {path}\")\n",
    "\n",
    "\n",
    "def load_model(model, path):\n",
    "    weights = np.load(path)\n",
    "    for name, layer in model.__dict__.items():\n",
    "        if hasattr(layer, 'W') and f'{name}.W' in weights:\n",
    "            layer.W = cp.asarray(weights[f'{name}.W'])\n",
    "        if hasattr(layer, 'b') and f'{name}.b' in weights:\n",
    "            layer.b = cp.asarray(weights[f'{name}.b'])\n",
    "    print(f\"[+] Loaded model weights from {path}\")\n",
    "\n",
    "\n",
    "def plot_training_curves(train_losses, val_losses, train_accuracies, val_accuracies):\n",
    "    plt.figure(figsize=(12, 5))\n",
    "    plt.subplot(1, 2, 1)\n",
    "    plt.plot(train_losses, label='Train Loss')\n",
    "    plt.plot(val_losses, label='Val Loss')\n",
    "    plt.xlabel('Epoch')\n",
    "    plt.ylabel('Loss')\n",
    "    plt.title('Loss Curve')\n",
    "    plt.legend()\n",
    "\n",
    "    plt.subplot(1, 2, 2)\n",
    "    plt.plot(train_accuracies, label='Train Acc')\n",
    "    plt.plot(val_accuracies, label='Val Acc')\n",
    "    plt.xlabel('Epoch')\n",
    "    plt.ylabel('Accuracy')\n",
    "    plt.title('Accuracy Curve')\n",
    "    plt.legend()\n",
    "    plt.tight_layout()\n",
    "    plt.show()\n",
    "\n",
    "\n",
    "def plot_confusion(model, X, Y, class_names=None):\n",
    "    preds = []\n",
    "    targets = []\n",
    "    batch = 64\n",
    "    for i in range(0, X.shape[0], batch):\n",
    "        xb = X[i:i+batch]\n",
    "        yb = Y[i:i+batch]\n",
    "        pred = cp.asnumpy(model.predict(xb))\n",
    "        label = cp.asnumpy(cp.argmax(yb, axis=1))\n",
    "        preds.append(pred)\n",
    "        targets.append(label)\n",
    "\n",
    "    preds = np.concatenate(preds)\n",
    "    targets = np.concatenate(targets)\n",
    "\n",
    "    cm = confusion_matrix(targets, preds, normalize='true')  # 归一化比例\n",
    "    plt.figure(figsize=(10, 8))\n",
    "    sns.heatmap(cm, annot=True, fmt=\".2f\", cmap=\"crest\", xticklabels=class_names, yticklabels=class_names)\n",
    "    plt.xlabel(\"Predicted\")\n",
    "    plt.ylabel(\"True\")\n",
    "    plt.title(\"Confusion Matrix - RESNET\")\n",
    "    plt.show()\n",
    "\n"
   ]
  },
  {
   "cell_type": "code",
   "execution_count": 61,
   "id": "7effbe1f-fa87-4884-a29a-6c024af3a899",
   "metadata": {
    "execution": {
     "iopub.execute_input": "2025-06-16T10:30:56.946865Z",
     "iopub.status.busy": "2025-06-16T10:30:56.946148Z",
     "iopub.status.idle": "2025-06-16T10:30:56.950717Z",
     "shell.execute_reply": "2025-06-16T10:30:56.949941Z",
     "shell.execute_reply.started": "2025-06-16T10:30:56.946838Z"
    },
    "trusted": true
   },
   "outputs": [],
   "source": [
    "import math\n",
    "# Cosine Annealing lr\n",
    "def cosine_annealing_lr(lr0, epoch, T_max, eta_min=1e-5):\n",
    "    return eta_min + 0.5 * (lr0 - eta_min) * (1 + math.cos(math.pi * epoch / T_max))"
   ]
  },
  {
   "cell_type": "code",
   "execution_count": 62,
   "id": "f8ba28b1-ce1b-46ce-948a-e9bd93016e2b",
   "metadata": {
    "execution": {
     "iopub.execute_input": "2025-06-16T10:30:57.184158Z",
     "iopub.status.busy": "2025-06-16T10:30:57.183885Z",
     "iopub.status.idle": "2025-06-16T10:30:57.196034Z",
     "shell.execute_reply": "2025-06-16T10:30:57.195352Z",
     "shell.execute_reply.started": "2025-06-16T10:30:57.184136Z"
    },
    "trusted": true
   },
   "outputs": [],
   "source": [
    "def train_resnet(model, loss_fn, X, Y, X_val=None, Y_val=None, epochs=10, batch=64, lr=0.01, reg_lambda=1e-4):\n",
    "    stopper = EarlyStopping(patience=5)\n",
    "    best_val_loss = float('inf')\n",
    "    best_val_acc = 0.0\n",
    "\n",
    "    def safe_add(x):\n",
    "        if isinstance(x, (int, float)):\n",
    "            return float(x)\n",
    "        elif isinstance(x, cp.ndarray) and x.shape == ():  # 标量\n",
    "            return float(x.item())\n",
    "        elif isinstance(x, (tuple, list, set)):\n",
    "            return sum(safe_add(i) for i in x)\n",
    "        else:\n",
    "            return 0.0\n",
    "\n",
    "    for epoch in range(epochs):\n",
    "        # 更新当前 epoch 的学习率\n",
    "        lr = cosine_annealing_lr(lr, epoch, epochs)\n",
    "        idx = cp.random.permutation(X.shape[0])\n",
    "        X, Y = X[idx], Y[idx]\n",
    "        total_loss, correct = 0.0, 0\n",
    "\n",
    "        with tqdm(total=X.shape[0], desc=f\"Epoch {epoch+1}/{epochs}\", unit=\"sample\") as pbar:\n",
    "            for i in range(0, X.shape[0], batch):\n",
    "                # xb = X[i:i+batch]\n",
    "                xb = cp.stack([augment_image(img) for img in X[i:i+batch]])\n",
    "\n",
    "                yb = Y[i:i+batch]\n",
    "\n",
    "                # Forward pass\n",
    "                out = model.forward(xb, training=True)\n",
    "                loss, acc = loss_fn.forward(out, yb)\n",
    "\n",
    "                # L2 正则项累加\n",
    "                reg_loss = 0.0\n",
    "                for layer in model.__dict__.values():\n",
    "                    if hasattr(layer, 'l2_loss'):\n",
    "                        reg_loss += safe_add(layer.l2_loss)\n",
    "                loss += reg_lambda * reg_loss\n",
    "\n",
    "                # Backward pass\n",
    "                grad = loss_fn.backward()\n",
    "                model.backward(grad)\n",
    "\n",
    "                # Accuracy & logging\n",
    "                pred = cp.argmax(out, axis=1)\n",
    "                correct += cp.sum(pred == cp.argmax(yb, axis=1))\n",
    "                total_loss += loss * xb.shape[0]\n",
    "\n",
    "                pbar.update(xb.shape[0])\n",
    "                pbar.set_postfix(loss=float(loss), acc=float(correct / (i + xb.shape[0])))\n",
    "\n",
    "        avg_loss = total_loss / X.shape[0]\n",
    "        train_acc = correct / X.shape[0]\n",
    "        print(f\"Summary: \\nTrain Loss {avg_loss:.4f}, Train Accuracy: {train_acc * 100:.2f}%\")\n",
    "\n",
    "        val_loss, val_acc = None, None\n",
    "        if X_val is not None and Y_val is not None:\n",
    "            val_loss, val_acc = evaluate_resnet(model, loss_fn, X_val, Y_val)\n",
    "            stopper(val_loss)\n",
    "            print(f\"Val Loss: {val_loss:.4f}, Val Accuracy: {val_acc * 100:.2f}%, Stop Counter: {stopper.counter}\")\n",
    "\n",
    "            # if val_loss >= best_val_loss:\n",
    "            #     lr *= 0.5\n",
    "            #     print(f\"No improvement in val_loss. Reducing learning rate to {lr:.6f}\")\n",
    "            # else:\n",
    "            #     best_val_loss = val_loss\n",
    "\n",
    "            if stopper.early_stop:\n",
    "                print(\"Early stopping triggered.\")\n",
    "                break\n",
    "\n",
    "        # 每轮都判断是否是最优准确率\n",
    "        if val_acc is not None and val_acc > best_val_acc:\n",
    "            best_val_acc = val_acc\n",
    "            save_model(model)\n",
    "            print(f\"[!] Saved best model with val_acc={best_val_acc:.4f}\")\n",
    "\n",
    "\n",
    "        # 记录曲线\n",
    "        train_losses.append(float(avg_loss))\n",
    "        train_accuracies.append(float(train_acc))\n",
    "        if val_loss is not None and val_acc is not None:\n",
    "            val_losses.append(val_loss)\n",
    "            val_accuracies.append(val_acc)\n",
    "           \n",
    "\n",
    "        # 清除中间缓存避免 OOM\n",
    "        cp._default_memory_pool.free_all_blocks()\n",
    "\n",
    "    # 画图\n",
    "    plot_training_curves(train_losses, val_losses, train_accuracies, val_accuracies)\n",
    "    if X_val is not None and Y_val is not None:\n",
    "        plot_confusion(model, X_val, Y_val,class_names = ['airplane', 'automobile', 'bird', 'cat', 'deer', \n",
    "               'dog', 'frog', 'horse', 'ship', 'truck'])\n",
    "\n"
   ]
  },
  {
   "cell_type": "code",
   "execution_count": null,
   "id": "ece25d84-19e7-4d4e-a56e-5b73c7850afd",
   "metadata": {
    "execution": {
     "iopub.execute_input": "2025-06-16T10:32:10.084529Z",
     "iopub.status.busy": "2025-06-16T10:32:10.084216Z",
     "iopub.status.idle": "2025-06-16T12:13:18.050080Z",
     "shell.execute_reply": "2025-06-16T12:13:18.049387Z",
     "shell.execute_reply.started": "2025-06-16T10:32:10.084507Z"
    },
    "trusted": true
   },
   "outputs": [
    {
     "name": "stdout",
     "output_type": "stream",
     "text": [
      "GPU is available and ready.\n"
     ]
    },
    {
     "data": {
      "application/vnd.jupyter.widget-view+json": {
       "model_id": "c07eb51781df4371afe31a7d79278bcd",
       "version_major": 2,
       "version_minor": 0
      },
      "text/plain": [
       "Epoch 1/50:   0%|          | 0/50000 [00:00<?, ?sample/s]"
      ]
     },
     "metadata": {},
     "output_type": "display_data"
    },
    {
     "name": "stdout",
     "output_type": "stream",
     "text": [
      "Summary: \n",
      "Train Loss 1.9497, Train Accuracy: 37.62%\n",
      "Val Loss: 1.1975, Val Accuracy: 57.16%, Stop Counter: 0\n",
      "[+] Model saved to: /kaggle/working/best_model.npz\n",
      "[!] Saved best model with val_acc=0.5716\n"
     ]
    },
    {
     "data": {
      "application/vnd.jupyter.widget-view+json": {
       "model_id": "3ac2d7fd1d7e42e2874e84668f80bfb9",
       "version_major": 2,
       "version_minor": 0
      },
      "text/plain": [
       "Epoch 2/50:   0%|          | 0/50000 [00:00<?, ?sample/s]"
      ]
     },
     "metadata": {},
     "output_type": "display_data"
    },
    {
     "name": "stdout",
     "output_type": "stream",
     "text": [
      "Summary: \n",
      "Train Loss 1.5726, Train Accuracy: 50.45%\n",
      "Val Loss: 0.9361, Val Accuracy: 66.96%, Stop Counter: 0\n",
      "[+] Model saved to: /kaggle/working/best_model.npz\n",
      "[!] Saved best model with val_acc=0.6696\n"
     ]
    },
    {
     "data": {
      "application/vnd.jupyter.widget-view+json": {
       "model_id": "4f2ecd8f2bc94490a8913087f53e092a",
       "version_major": 2,
       "version_minor": 0
      },
      "text/plain": [
       "Epoch 3/50:   0%|          | 0/50000 [00:00<?, ?sample/s]"
      ]
     },
     "metadata": {},
     "output_type": "display_data"
    },
    {
     "name": "stdout",
     "output_type": "stream",
     "text": [
      "Summary: \n",
      "Train Loss 1.4055, Train Accuracy: 56.10%\n",
      "Val Loss: 0.8719, Val Accuracy: 69.71%, Stop Counter: 0\n",
      "[+] Model saved to: /kaggle/working/best_model.npz\n",
      "[!] Saved best model with val_acc=0.6971\n"
     ]
    },
    {
     "data": {
      "application/vnd.jupyter.widget-view+json": {
       "model_id": "8ea2cfc9d2544e49bb36ac04f84532a7",
       "version_major": 2,
       "version_minor": 0
      },
      "text/plain": [
       "Epoch 4/50:   0%|          | 0/50000 [00:00<?, ?sample/s]"
      ]
     },
     "metadata": {},
     "output_type": "display_data"
    },
    {
     "name": "stdout",
     "output_type": "stream",
     "text": [
      "Summary: \n",
      "Train Loss 1.3094, Train Accuracy: 59.26%\n",
      "Val Loss: 0.7704, Val Accuracy: 74.59%, Stop Counter: 0\n",
      "[+] Model saved to: /kaggle/working/best_model.npz\n",
      "[!] Saved best model with val_acc=0.7459\n"
     ]
    },
    {
     "data": {
      "application/vnd.jupyter.widget-view+json": {
       "model_id": "e505df0c82ff452093f6451f2cdeb583",
       "version_major": 2,
       "version_minor": 0
      },
      "text/plain": [
       "Epoch 5/50:   0%|          | 0/50000 [00:00<?, ?sample/s]"
      ]
     },
     "metadata": {},
     "output_type": "display_data"
    },
    {
     "name": "stdout",
     "output_type": "stream",
     "text": [
      "Summary: \n",
      "Train Loss 1.2569, Train Accuracy: 60.76%\n",
      "Val Loss: 0.7097, Val Accuracy: 75.80%, Stop Counter: 0\n",
      "[+] Model saved to: /kaggle/working/best_model.npz\n",
      "[!] Saved best model with val_acc=0.7580\n"
     ]
    },
    {
     "data": {
      "application/vnd.jupyter.widget-view+json": {
       "model_id": "f533665d3ff643f0b8f7124aabc129bd",
       "version_major": 2,
       "version_minor": 0
      },
      "text/plain": [
       "Epoch 6/50:   0%|          | 0/50000 [00:00<?, ?sample/s]"
      ]
     },
     "metadata": {},
     "output_type": "display_data"
    },
    {
     "name": "stdout",
     "output_type": "stream",
     "text": [
      "Summary: \n",
      "Train Loss 1.2020, Train Accuracy: 62.57%\n",
      "Val Loss: 0.7649, Val Accuracy: 74.74%, Stop Counter: 1\n"
     ]
    },
    {
     "data": {
      "application/vnd.jupyter.widget-view+json": {
       "model_id": "c7a695914d5d46ce9ada387f101e6ab4",
       "version_major": 2,
       "version_minor": 0
      },
      "text/plain": [
       "Epoch 7/50:   0%|          | 0/50000 [00:00<?, ?sample/s]"
      ]
     },
     "metadata": {},
     "output_type": "display_data"
    },
    {
     "name": "stdout",
     "output_type": "stream",
     "text": [
      "Summary: \n",
      "Train Loss 1.1656, Train Accuracy: 63.42%\n",
      "Val Loss: 0.6481, Val Accuracy: 77.92%, Stop Counter: 0\n",
      "[+] Model saved to: /kaggle/working/best_model.npz\n",
      "[!] Saved best model with val_acc=0.7792\n"
     ]
    },
    {
     "data": {
      "application/vnd.jupyter.widget-view+json": {
       "model_id": "0ba3e4c504e8469a8f4dc20695e4bfcd",
       "version_major": 2,
       "version_minor": 0
      },
      "text/plain": [
       "Epoch 8/50:   0%|          | 0/50000 [00:00<?, ?sample/s]"
      ]
     },
     "metadata": {},
     "output_type": "display_data"
    },
    {
     "name": "stdout",
     "output_type": "stream",
     "text": [
      "Summary: \n",
      "Train Loss 1.1375, Train Accuracy: 64.44%\n",
      "Val Loss: 0.5283, Val Accuracy: 82.26%, Stop Counter: 0\n",
      "[+] Model saved to: /kaggle/working/best_model.npz\n",
      "[!] Saved best model with val_acc=0.8226\n"
     ]
    },
    {
     "data": {
      "application/vnd.jupyter.widget-view+json": {
       "model_id": "1e0258a9c1ec4db2b58aed3a28a341bf",
       "version_major": 2,
       "version_minor": 0
      },
      "text/plain": [
       "Epoch 9/50:   0%|          | 0/50000 [00:00<?, ?sample/s]"
      ]
     },
     "metadata": {},
     "output_type": "display_data"
    },
    {
     "name": "stdout",
     "output_type": "stream",
     "text": [
      "Summary: \n",
      "Train Loss 1.1157, Train Accuracy: 65.15%\n",
      "Val Loss: 0.5372, Val Accuracy: 81.74%, Stop Counter: 1\n"
     ]
    },
    {
     "data": {
      "application/vnd.jupyter.widget-view+json": {
       "model_id": "2408671be7434a17b6330813b207ca60",
       "version_major": 2,
       "version_minor": 0
      },
      "text/plain": [
       "Epoch 10/50:   0%|          | 0/50000 [00:00<?, ?sample/s]"
      ]
     },
     "metadata": {},
     "output_type": "display_data"
    },
    {
     "name": "stdout",
     "output_type": "stream",
     "text": [
      "Summary: \n",
      "Train Loss 1.0835, Train Accuracy: 66.25%\n",
      "Val Loss: 0.5277, Val Accuracy: 82.68%, Stop Counter: 0\n",
      "[+] Model saved to: /kaggle/working/best_model.npz\n",
      "[!] Saved best model with val_acc=0.8268\n"
     ]
    },
    {
     "data": {
      "application/vnd.jupyter.widget-view+json": {
       "model_id": "8e4bdadffd204b73bf1d2896eb9beaa8",
       "version_major": 2,
       "version_minor": 0
      },
      "text/plain": [
       "Epoch 11/50:   0%|          | 0/50000 [00:00<?, ?sample/s]"
      ]
     },
     "metadata": {},
     "output_type": "display_data"
    },
    {
     "name": "stdout",
     "output_type": "stream",
     "text": [
      "Summary: \n",
      "Train Loss 1.0616, Train Accuracy: 66.89%\n",
      "Val Loss: 0.5379, Val Accuracy: 82.78%, Stop Counter: 1\n",
      "[+] Model saved to: /kaggle/working/best_model.npz\n",
      "[!] Saved best model with val_acc=0.8278\n"
     ]
    },
    {
     "data": {
      "application/vnd.jupyter.widget-view+json": {
       "model_id": "bd5002bf018e418b8590e2cfd39283bc",
       "version_major": 2,
       "version_minor": 0
      },
      "text/plain": [
       "Epoch 12/50:   0%|          | 0/50000 [00:00<?, ?sample/s]"
      ]
     },
     "metadata": {},
     "output_type": "display_data"
    },
    {
     "name": "stdout",
     "output_type": "stream",
     "text": [
      "Summary: \n",
      "Train Loss 1.0466, Train Accuracy: 67.42%\n",
      "Val Loss: 0.5541, Val Accuracy: 81.51%, Stop Counter: 2\n"
     ]
    },
    {
     "data": {
      "application/vnd.jupyter.widget-view+json": {
       "model_id": "03f665399950405db2033b16823064c0",
       "version_major": 2,
       "version_minor": 0
      },
      "text/plain": [
       "Epoch 13/50:   0%|          | 0/50000 [00:00<?, ?sample/s]"
      ]
     },
     "metadata": {},
     "output_type": "display_data"
    },
    {
     "name": "stdout",
     "output_type": "stream",
     "text": [
      "Summary: \n",
      "Train Loss 1.0284, Train Accuracy: 67.81%\n",
      "Val Loss: 0.4851, Val Accuracy: 84.12%, Stop Counter: 0\n",
      "[+] Model saved to: /kaggle/working/best_model.npz\n",
      "[!] Saved best model with val_acc=0.8412\n"
     ]
    },
    {
     "data": {
      "application/vnd.jupyter.widget-view+json": {
       "model_id": "8867f25a471348f5a094b003431b6f74",
       "version_major": 2,
       "version_minor": 0
      },
      "text/plain": [
       "Epoch 14/50:   0%|          | 0/50000 [00:00<?, ?sample/s]"
      ]
     },
     "metadata": {},
     "output_type": "display_data"
    },
    {
     "name": "stdout",
     "output_type": "stream",
     "text": [
      "Summary: \n",
      "Train Loss 1.0192, Train Accuracy: 68.25%\n",
      "Val Loss: 0.4770, Val Accuracy: 83.95%, Stop Counter: 0\n"
     ]
    },
    {
     "data": {
      "application/vnd.jupyter.widget-view+json": {
       "model_id": "4f0c01c7149f4f53ab21b5535fbf008e",
       "version_major": 2,
       "version_minor": 0
      },
      "text/plain": [
       "Epoch 15/50:   0%|          | 0/50000 [00:00<?, ?sample/s]"
      ]
     },
     "metadata": {},
     "output_type": "display_data"
    },
    {
     "name": "stdout",
     "output_type": "stream",
     "text": [
      "Summary: \n",
      "Train Loss 1.0058, Train Accuracy: 68.94%\n",
      "Val Loss: 0.4507, Val Accuracy: 85.28%, Stop Counter: 0\n",
      "[+] Model saved to: /kaggle/working/best_model.npz\n",
      "[!] Saved best model with val_acc=0.8528\n"
     ]
    },
    {
     "data": {
      "application/vnd.jupyter.widget-view+json": {
       "model_id": "5bf46f3356b84afeb10bcf51b64bf53e",
       "version_major": 2,
       "version_minor": 0
      },
      "text/plain": [
       "Epoch 16/50:   0%|          | 0/50000 [00:00<?, ?sample/s]"
      ]
     },
     "metadata": {},
     "output_type": "display_data"
    },
    {
     "name": "stdout",
     "output_type": "stream",
     "text": [
      "Summary: \n",
      "Train Loss 1.0066, Train Accuracy: 68.66%\n",
      "Val Loss: 0.4298, Val Accuracy: 85.67%, Stop Counter: 0\n",
      "[+] Model saved to: /kaggle/working/best_model.npz\n",
      "[!] Saved best model with val_acc=0.8567\n"
     ]
    },
    {
     "data": {
      "application/vnd.jupyter.widget-view+json": {
       "model_id": "374482d344a04f5f9730757c279ac669",
       "version_major": 2,
       "version_minor": 0
      },
      "text/plain": [
       "Epoch 17/50:   0%|          | 0/50000 [00:00<?, ?sample/s]"
      ]
     },
     "metadata": {},
     "output_type": "display_data"
    },
    {
     "name": "stdout",
     "output_type": "stream",
     "text": [
      "Summary: \n",
      "Train Loss 0.9975, Train Accuracy: 69.23%\n",
      "Val Loss: 0.4226, Val Accuracy: 86.11%, Stop Counter: 0\n",
      "[+] Model saved to: /kaggle/working/best_model.npz\n",
      "[!] Saved best model with val_acc=0.8611\n"
     ]
    },
    {
     "data": {
      "application/vnd.jupyter.widget-view+json": {
       "model_id": "e67dfb4fec60488c89c463c775b70c27",
       "version_major": 2,
       "version_minor": 0
      },
      "text/plain": [
       "Epoch 18/50:   0%|          | 0/50000 [00:00<?, ?sample/s]"
      ]
     },
     "metadata": {},
     "output_type": "display_data"
    },
    {
     "name": "stdout",
     "output_type": "stream",
     "text": [
      "Summary: \n",
      "Train Loss 0.9902, Train Accuracy: 69.61%\n",
      "Val Loss: 0.5258, Val Accuracy: 84.29%, Stop Counter: 1\n"
     ]
    },
    {
     "data": {
      "application/vnd.jupyter.widget-view+json": {
       "model_id": "aafaf4bc702941f68e15a37abd8f9503",
       "version_major": 2,
       "version_minor": 0
      },
      "text/plain": [
       "Epoch 19/50:   0%|          | 0/50000 [00:00<?, ?sample/s]"
      ]
     },
     "metadata": {},
     "output_type": "display_data"
    },
    {
     "name": "stdout",
     "output_type": "stream",
     "text": [
      "Summary: \n",
      "Train Loss 0.9950, Train Accuracy: 69.51%\n",
      "Val Loss: 0.4055, Val Accuracy: 86.63%, Stop Counter: 0\n",
      "[+] Model saved to: /kaggle/working/best_model.npz\n",
      "[!] Saved best model with val_acc=0.8663\n"
     ]
    },
    {
     "data": {
      "application/vnd.jupyter.widget-view+json": {
       "model_id": "9b1eac90e8894401b68b366ae6b75e6b",
       "version_major": 2,
       "version_minor": 0
      },
      "text/plain": [
       "Epoch 20/50:   0%|          | 0/50000 [00:00<?, ?sample/s]"
      ]
     },
     "metadata": {},
     "output_type": "display_data"
    },
    {
     "name": "stdout",
     "output_type": "stream",
     "text": [
      "Summary: \n",
      "Train Loss 0.9892, Train Accuracy: 69.84%\n",
      "Val Loss: 0.4314, Val Accuracy: 85.41%, Stop Counter: 1\n"
     ]
    },
    {
     "data": {
      "application/vnd.jupyter.widget-view+json": {
       "model_id": "b86cf9d9b29d481e84c649db0f02ca92",
       "version_major": 2,
       "version_minor": 0
      },
      "text/plain": [
       "Epoch 21/50:   0%|          | 0/50000 [00:00<?, ?sample/s]"
      ]
     },
     "metadata": {},
     "output_type": "display_data"
    },
    {
     "name": "stdout",
     "output_type": "stream",
     "text": [
      "Summary: \n",
      "Train Loss 0.9824, Train Accuracy: 70.13%\n",
      "Val Loss: 0.4149, Val Accuracy: 85.77%, Stop Counter: 2\n"
     ]
    },
    {
     "data": {
      "application/vnd.jupyter.widget-view+json": {
       "model_id": "3f0a24c8a01440669bf28ad139a49416",
       "version_major": 2,
       "version_minor": 0
      },
      "text/plain": [
       "Epoch 22/50:   0%|          | 0/50000 [00:00<?, ?sample/s]"
      ]
     },
     "metadata": {},
     "output_type": "display_data"
    },
    {
     "name": "stdout",
     "output_type": "stream",
     "text": [
      "Summary: \n",
      "Train Loss 0.9824, Train Accuracy: 70.51%\n",
      "Val Loss: 0.3483, Val Accuracy: 87.83%, Stop Counter: 0\n",
      "[+] Model saved to: /kaggle/working/best_model.npz\n",
      "[!] Saved best model with val_acc=0.8783\n"
     ]
    },
    {
     "data": {
      "application/vnd.jupyter.widget-view+json": {
       "model_id": "112987edf1ed4aaaae12cecc835e2a5b",
       "version_major": 2,
       "version_minor": 0
      },
      "text/plain": [
       "Epoch 23/50:   0%|          | 0/50000 [00:00<?, ?sample/s]"
      ]
     },
     "metadata": {},
     "output_type": "display_data"
    },
    {
     "name": "stdout",
     "output_type": "stream",
     "text": [
      "Summary: \n",
      "Train Loss 0.9943, Train Accuracy: 70.25%\n",
      "Val Loss: 0.4337, Val Accuracy: 86.22%, Stop Counter: 1\n"
     ]
    },
    {
     "data": {
      "application/vnd.jupyter.widget-view+json": {
       "model_id": "9b3dc9fbf8ca44499b83f02e0d9709c0",
       "version_major": 2,
       "version_minor": 0
      },
      "text/plain": [
       "Epoch 24/50:   0%|          | 0/50000 [00:00<?, ?sample/s]"
      ]
     },
     "metadata": {},
     "output_type": "display_data"
    },
    {
     "name": "stdout",
     "output_type": "stream",
     "text": [
      "Summary: \n",
      "Train Loss 0.9819, Train Accuracy: 70.88%\n",
      "Val Loss: 0.3760, Val Accuracy: 87.75%, Stop Counter: 2\n"
     ]
    },
    {
     "data": {
      "application/vnd.jupyter.widget-view+json": {
       "model_id": "4cca6daad2e449318eb31f27a651b4b4",
       "version_major": 2,
       "version_minor": 0
      },
      "text/plain": [
       "Epoch 25/50:   0%|          | 0/50000 [00:00<?, ?sample/s]"
      ]
     },
     "metadata": {},
     "output_type": "display_data"
    },
    {
     "name": "stdout",
     "output_type": "stream",
     "text": [
      "Summary: \n",
      "Train Loss 0.9799, Train Accuracy: 71.02%\n",
      "Val Loss: 0.3945, Val Accuracy: 87.12%, Stop Counter: 3\n"
     ]
    },
    {
     "data": {
      "application/vnd.jupyter.widget-view+json": {
       "model_id": "dbc98ee04cef4072a314f09cd0391dc9",
       "version_major": 2,
       "version_minor": 0
      },
      "text/plain": [
       "Epoch 26/50:   0%|          | 0/50000 [00:00<?, ?sample/s]"
      ]
     },
     "metadata": {},
     "output_type": "display_data"
    },
    {
     "name": "stdout",
     "output_type": "stream",
     "text": [
      "Summary: \n",
      "Train Loss 0.9909, Train Accuracy: 71.00%\n",
      "Val Loss: 0.4190, Val Accuracy: 86.45%, Stop Counter: 4\n"
     ]
    },
    {
     "data": {
      "application/vnd.jupyter.widget-view+json": {
       "model_id": "ae70357caa6845e0909333f6afa45b43",
       "version_major": 2,
       "version_minor": 0
      },
      "text/plain": [
       "Epoch 27/50:   0%|          | 0/50000 [00:00<?, ?sample/s]"
      ]
     },
     "metadata": {},
     "output_type": "display_data"
    },
    {
     "name": "stdout",
     "output_type": "stream",
     "text": [
      "Summary: \n",
      "Train Loss 0.9890, Train Accuracy: 71.21%\n",
      "Val Loss: 0.3508, Val Accuracy: 88.49%, Stop Counter: 5\n",
      "Early stopping triggered.\n"
     ]
    },
    {
     "data": {
      "image/png": "[encoded data removed]",
      "text/plain": [
       "<Figure size 1200x500 with 2 Axes>"
      ]
     },
     "metadata": {},
     "output_type": "display_data"
    },
    {
     "data": {
      "image/png": "[encoded data removed]",
      "text/plain": [
       "<Figure size 1000x800 with 2 Axes>"
      ]
     },
     "metadata": {},
     "output_type": "display_data"
    }
   ],
   "source": [
    "check_gpu()\n",
    "X_train, Y_train, X_test, Y_test = load_cifar10_binary('/kaggle/input/cifar-10-bi/cifar-10-binary/cifar-10-batches-bin')\n",
    "Y_train = one_hot_encode(Y_train)\n",
    "Y_test = one_hot_encode(Y_test)\n",
    "\n",
    "model = ResNet(block_config=[2,2,2,2], num_classes=10, use_adam=True)  \n",
    "loss_fn = SoftmaxWithLoss()\n",
    "\n",
    "train_resnet(\n",
    "    model,\n",
    "    loss_fn,\n",
    "    X_train, Y_train,\n",
    "    X_val=X_test, Y_val=Y_test,\n",
    "    epochs=50,\n",
    "    batch=64,\n",
    "    lr=0.005,\n",
    "    reg_lambda=1e-3\n",
    ")\n"
   ]
  },
  {
   "cell_type": "code",
   "execution_count": 44,
   "id": "17e2c2ec-f3c3-4cd3-acd7-701f66243c51",
   "metadata": {
    "execution": {
     "iopub.execute_input": "2025-06-16T10:29:55.940305Z",
     "iopub.status.busy": "2025-06-16T10:29:55.939570Z",
     "iopub.status.idle": "2025-06-16T10:29:55.967254Z",
     "shell.execute_reply": "2025-06-16T10:29:55.966558Z",
     "shell.execute_reply.started": "2025-06-16T10:29:55.940284Z"
    },
    "trusted": true
   },
   "outputs": [],
   "source": [
    "model = ResNet()  \n",
    "# load_model(model, '/kaggle/working/best_model.npz')  \n"
   ]
  },
  {
   "cell_type": "code",
   "execution_count": null,
   "id": "2e5f635c-9bb7-44d4-9b05-d338b93a1a7d",
   "metadata": {
    "trusted": true
   },
   "outputs": [],
   "source": []
  }
 ],
 "metadata": {
  "kaggle": {
   "accelerator": "gpu",
   "dataSources": [
    {
     "datasetId": 7473050,
     "sourceId": 11889623,
     "sourceType": "datasetVersion"
    }
   ],
   "dockerImageVersionId": 31041,
   "isGpuEnabled": true,
   "isInternetEnabled": false,
   "language": "python",
   "sourceType": "notebook"
  },
  "kernelspec": {
   "display_name": "Python 3",
   "language": "python",
   "name": "python3"
  },
  "language_info": {
   "codemirror_mode": {
    "name": "ipython",
    "version": 3
   },
   "file_extension": ".py",
   "mimetype": "text/x-python",
   "name": "python",
   "nbconvert_exporter": "python",
   "pygments_lexer": "ipython3",
   "version": "3.11.11"
  }
 },
 "nbformat": 4,
 "nbformat_minor": 5
}
